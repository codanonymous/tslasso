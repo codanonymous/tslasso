{
 "cells": [
  {
   "cell_type": "code",
   "execution_count": null,
   "metadata": {
    "collapsed": true
   },
   "outputs": [],
   "source": [
    "import numpy as np\n",
    "import os\n",
    "directory = '/Users/samsonkoelle/Downloads/radius_search/'\n",
    "files  = os.listdir(directory)\n",
    "dims = np.asarray([2,2,1,2,2,2,1,2,2])\n",
    "radius_search = {}\n",
    "for file in files:\n",
    "    radius_search[file] = np.load(directory + file) \n",
    "    \n",
    "rads = np.zeros(9)\n",
    "dts = np.zeros(9)\n",
    "\n",
    "def dt(rad,dim):\n",
    "    output = np.sqrt( ((rad**2)**(2 / dim)) / (np.pi*4))\n",
    "    return(output)\n",
    "\n",
    "for i in range(len(files)):\n",
    "    file = files[i]\n",
    "    rad_dist = radius_search[file]\n",
    "    optimum_index = rad_dist[:,1].argmin()\n",
    "    rads[i] = rad_dist[optimum_index,0]\n",
    "    dts[i] = dt(rads[i],dims[i])\n",
    "\n",
    "print(dts)"
   ]
  }
 ],
 "metadata": {
  "kernelspec": {
   "display_name": "python35megaman03",
   "language": "python",
   "name": "python35megaman03"
  },
  "language_info": {
   "codemirror_mode": {
    "name": "ipython",
    "version": 3
   },
   "file_extension": ".py",
   "mimetype": "text/x-python",
   "name": "python",
   "nbconvert_exporter": "python",
   "pygments_lexer": "ipython3",
   "version": "3.5.5"
  }
 },
 "nbformat": 4,
 "nbformat_minor": 2
}
